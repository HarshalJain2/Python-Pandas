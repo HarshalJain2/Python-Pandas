{
 "cells": [
  {
   "cell_type": "markdown",
   "metadata": {
    "id": "Wxg8Qhr5_-JS"
   },
   "source": [
    "### Let's begin with some hands-on practice exercises. \n",
    "\n",
    "**Create a dataframe wherever necessary**"
   ]
  },
  {
   "cell_type": "markdown",
   "metadata": {
    "id": "cU5EVGAx_-JS"
   },
   "source": [
    "<table align=\"left\" width=100%>\n",
    "    <tr>\n",
    "        <td width=\"6%\">\n",
    "            <img src=\"question_icon.png\">\n",
    "        </td>\n",
    "        <td>\n",
    "            <div align=\"left\">\n",
    "                <font color=\"#21618C\" size=4px>\n",
    "                    <b> 1. Compute minimum and maximum sales for each store and location\n",
    "                    </b>\n",
    "                </font>\n",
    "            </div>\n",
    "        </td>\n",
    "    </tr>\n",
    "</table>"
   ]
  },
  {
   "cell_type": "markdown",
   "metadata": {
    "id": "vvinChVE_-JT"
   },
   "source": [
    "**Use the dataframe given below:**\n",
    "   \n",
    "<table>\n",
    "<tr>\n",
    "<th>Store</th>\n",
    "<th>Location</th>\n",
    "<th>Sales</th>\n",
    "</tr>\n",
    "<tr>\n",
    "<td>A</td>\n",
    "<td>Mumbai</td>\n",
    "<td>40000</td>\n",
    "</tr>\n",
    "<tr>\n",
    "<td>B</td>\n",
    "<td>Pune</td>\n",
    "<td>45000</td>\n",
    "</tr>\n",
    "<tr>\n",
    "<td>A</td>\n",
    "<td>Hyderabad</td>\n",
    "<td>50000</td>\n",
    "</tr>\n",
    "<tr>\n",
    "<td>C</td>\n",
    "<td>Mumbai</td>\n",
    "<td>90000</td>\n",
    "</tr>\n",
    "<tr>\n",
    "<td>D</td>\n",
    "<td>Pune</td>\n",
    "<td>89000</td>\n",
    "</tr>\n",
    "<tr>\n",
    "<td>A</td>\n",
    "<td>Delhi</td>\n",
    "<td>87000</td>\n",
    "</tr>\n",
    "<tr>\n",
    "<td>D</td>\n",
    "<td>Hyderabad</td>\n",
    "<td>85000</td>\n",
    "</tr>\n",
    "<tr>\n",
    "<td>A</td>\n",
    "<td>Pune</td>\n",
    "<td>78000</td>\n",
    "</tr>\n",
    "<tr>\n",
    "<td>C</td>\n",
    "<td>Mumbai</td>\n",
    "<td>89000</td>\n",
    "</tr>\n",
    "<tr>\n",
    "<td>B</td>\n",
    "<td>Pune</td>\n",
    "<td>70000</td>\n",
    "</tr>\n",
    "   \n",
    "</table>"
   ]
  },
  {
   "cell_type": "code",
   "execution_count": 5,
   "metadata": {
    "id": "7WKNBZ7m_-JT"
   },
   "outputs": [
    {
     "data": {
      "text/html": [
       "<div>\n",
       "<style scoped>\n",
       "    .dataframe tbody tr th:only-of-type {\n",
       "        vertical-align: middle;\n",
       "    }\n",
       "\n",
       "    .dataframe tbody tr th {\n",
       "        vertical-align: top;\n",
       "    }\n",
       "\n",
       "    .dataframe thead tr th {\n",
       "        text-align: left;\n",
       "    }\n",
       "\n",
       "    .dataframe thead tr:last-of-type th {\n",
       "        text-align: right;\n",
       "    }\n",
       "</style>\n",
       "<table border=\"1\" class=\"dataframe\">\n",
       "  <thead>\n",
       "    <tr>\n",
       "      <th></th>\n",
       "      <th></th>\n",
       "      <th>min</th>\n",
       "      <th>max</th>\n",
       "    </tr>\n",
       "    <tr>\n",
       "      <th></th>\n",
       "      <th></th>\n",
       "      <th>Sales</th>\n",
       "      <th>Sales</th>\n",
       "    </tr>\n",
       "    <tr>\n",
       "      <th>store</th>\n",
       "      <th>Location</th>\n",
       "      <th></th>\n",
       "      <th></th>\n",
       "    </tr>\n",
       "  </thead>\n",
       "  <tbody>\n",
       "    <tr>\n",
       "      <th rowspan=\"4\" valign=\"top\">A</th>\n",
       "      <th>Delhi</th>\n",
       "      <td>87000</td>\n",
       "      <td>87000</td>\n",
       "    </tr>\n",
       "    <tr>\n",
       "      <th>Hyderabad</th>\n",
       "      <td>50000</td>\n",
       "      <td>50000</td>\n",
       "    </tr>\n",
       "    <tr>\n",
       "      <th>Mumbai</th>\n",
       "      <td>40000</td>\n",
       "      <td>40000</td>\n",
       "    </tr>\n",
       "    <tr>\n",
       "      <th>Pune</th>\n",
       "      <td>78000</td>\n",
       "      <td>78000</td>\n",
       "    </tr>\n",
       "    <tr>\n",
       "      <th>B</th>\n",
       "      <th>Pune</th>\n",
       "      <td>45000</td>\n",
       "      <td>70000</td>\n",
       "    </tr>\n",
       "    <tr>\n",
       "      <th>C</th>\n",
       "      <th>Mumbai</th>\n",
       "      <td>89000</td>\n",
       "      <td>90000</td>\n",
       "    </tr>\n",
       "    <tr>\n",
       "      <th rowspan=\"2\" valign=\"top\">D</th>\n",
       "      <th>Hyderabad</th>\n",
       "      <td>85000</td>\n",
       "      <td>85000</td>\n",
       "    </tr>\n",
       "    <tr>\n",
       "      <th>Pune</th>\n",
       "      <td>89000</td>\n",
       "      <td>89000</td>\n",
       "    </tr>\n",
       "  </tbody>\n",
       "</table>\n",
       "</div>"
      ],
      "text/plain": [
       "                   min    max\n",
       "                 Sales  Sales\n",
       "store Location               \n",
       "A     Delhi      87000  87000\n",
       "      Hyderabad  50000  50000\n",
       "      Mumbai     40000  40000\n",
       "      Pune       78000  78000\n",
       "B     Pune       45000  70000\n",
       "C     Mumbai     89000  90000\n",
       "D     Hyderabad  85000  85000\n",
       "      Pune       89000  89000"
      ]
     },
     "execution_count": 5,
     "metadata": {},
     "output_type": "execute_result"
    }
   ],
   "source": [
    "import pandas as pd\n",
    "import numpy as np\n",
    "md5={ \n",
    "     'store': ['A','B','A','C','D','A','D','A','C','B'],\n",
    "     'Location':['Mumbai','Pune','Hyderabad','Mumbai','Pune','Delhi','Hyderabad','Pune','Mumbai','Pune'],\n",
    "     'Sales': [40000,45000,50000,90000,89000,87000,85000,78000,89000,70000]\n",
    "}\n",
    "df15 = pd.DataFrame(md5)\n",
    "dfp=pd.pivot_table(data=df15, index=['store','Location'],aggfunc=['min','max'],values=['Sales'])\n",
    "dfp"
   ]
  },
  {
   "cell_type": "markdown",
   "metadata": {
    "id": "zActQq9t_-JU"
   },
   "source": [
    "<table align=\"left\" width=100%>\n",
    "    <tr>\n",
    "        <td width=\"6%\">\n",
    "            <img src=\"question_icon.png\">\n",
    "        </td>\n",
    "        <td>\n",
    "            <div align=\"left\">\n",
    "                <font color=\"#21618C\" size=4px>\n",
    "                    <b> 2. Find duplicate rows based on the column 'Name'\n",
    "                    </b>\n",
    "                </font>\n",
    "            </div>\n",
    "        </td>\n",
    "    </tr>\n",
    "</table>"
   ]
  },
  {
   "cell_type": "markdown",
   "metadata": {
    "id": "httAdsrN_-JV"
   },
   "source": [
    "**Use the dataframe given below:**\n",
    "   \n",
    "<table>\n",
    "<tr>\n",
    "<th>Name</th>\n",
    "<th>Salary</th>\n",
    "<th>City</th>\n",
    "</tr>\n",
    "<tr>\n",
    "<td>John</td>\n",
    "<td>3400</td>\n",
    "<td>Sydeny</td>\n",
    "</tr>\n",
    "<tr>\n",
    "<td>Robert</td>\n",
    "<td>3000</td>\n",
    "<td>Chicago</td>\n",
    "</tr>\n",
    "<tr>\n",
    "<td>Aadi</td>\n",
    "<td>1600</td>\n",
    "<td>New York</td>\n",
    "</tr>\n",
    "<tr>\n",
    "<td>Robert</td>\n",
    "<td>3000</td>\n",
    "<td>Chicago</td>\n",
    "</tr>\n",
    "<tr>\n",
    "<td>Robert</td>\n",
    "<td>3000</td>\n",
    "<td>Chicago</td>\n",
    "</tr>\n",
    "<tr>\n",
    "<td>Robert</td>\n",
    "<td>3000</td>\n",
    "<td>Texas</td>\n",
    "</tr>\n",
    "<tr>\n",
    "<td>Aadi</td>\n",
    "<td>4000</td>\n",
    "<td>London</td>\n",
    "</tr>\n",
    "<tr>\n",
    "<td>Sachin</td>\n",
    "<td>3000</td>\n",
    "<td>Chicago</td>\n",
    "</tr>\n",
    "   \n",
    "</table>"
   ]
  },
  {
   "cell_type": "code",
   "execution_count": 2,
   "metadata": {
    "id": "-k2eGJ_2_-JV"
   },
   "outputs": [
    {
     "data": {
      "text/plain": [
       "0    False\n",
       "1    False\n",
       "2    False\n",
       "3     True\n",
       "4     True\n",
       "5     True\n",
       "6     True\n",
       "7    False\n",
       "dtype: bool"
      ]
     },
     "execution_count": 2,
     "metadata": {},
     "output_type": "execute_result"
    }
   ],
   "source": [
    "md3 = {\n",
    "    'Name' : ['John','Robert','Aadi','Robert','Robert','Robert','Aadi','Sachine'],\n",
    "    'Salary' : [3400,3000,1600,3000,3000,3000,4000,3000],\n",
    "    'City' : ['Sydney', 'Chicago', 'New York','Chicago','Chicago','Texas','London','Chicago']\n",
    "}\n",
    "df15 = pd.DataFrame(md3)\n",
    "df15.duplicated(subset='Name',keep='first')"
   ]
  },
  {
   "cell_type": "markdown",
   "metadata": {
    "id": "C7Db8klM_-JW"
   },
   "source": [
    "<table align=\"left\" width=100%>\n",
    "    <tr>\n",
    "        <td width=\"6%\">\n",
    "            <img src=\"question_icon.png\">\n",
    "        </td>\n",
    "        <td>\n",
    "            <div align=\"left\">\n",
    "                <font color=\"#21618C\" size=4px>\n",
    "                    <b> 3.  In column tournament, replace all the 'football' values  with 'cricket' using numpy.where\n",
    "                    </b>\n",
    "                </font>\n",
    "            </div>\n",
    "        </td>\n",
    "    </tr>\n",
    "</table>"
   ]
  },
  {
   "cell_type": "markdown",
   "metadata": {
    "id": "RtR6u4B4_-JW"
   },
   "source": [
    " \n",
    "<table>\n",
    "<tr>\n",
    "<th>Days</th>\n",
    "<th>Tournament</th>\n",
    "</tr>\n",
    "<tr>\n",
    "<td>Mon</td>\n",
    "<td>Football</td>\n",
    "</tr>\n",
    "<tr>\n",
    "<td>Tues</td>\n",
    "<td>Cricket</td>\n",
    "</tr>\n",
    "<tr>\n",
    "<td>Wed</td>\n",
    "<td>Football</td>\n",
    "</tr>\n",
    "<tr>\n",
    "<td>Thurs</td>\n",
    "<td>Football</td>\n",
    "</tr>\n",
    "<tr>\n",
    "<td>Fri</td>\n",
    "<td>Cricket</td>\n",
    "</tr>\n",
    "   \n",
    "</table>"
   ]
  },
  {
   "cell_type": "code",
   "execution_count": 6,
   "metadata": {
    "id": "Mhh2ZgoJ_-JX"
   },
   "outputs": [
    {
     "name": "stdout",
     "output_type": "stream",
     "text": [
      "['Cricket' 'Cricket' 'Cricket' 'Cricket' 'Cricket']\n"
     ]
    }
   ],
   "source": [
    "md4={\n",
    "           'Days':['Mon','Tues','Wed','Thurs','Fri'],\n",
    "            'Tournaments':['Football','Cricket','Football','Football','Cricket']\n",
    "    \n",
    "}\n",
    "df15 = pd.DataFrame(md4)\n",
    "dfm15=np.where(df15['Tournaments']== 'Football', 'Cricket' , df15['Tournaments'])\n",
    "print(dfm15)"
   ]
  },
  {
   "cell_type": "markdown",
   "metadata": {
    "id": "vH9E2nnf_-JX"
   },
   "source": [
    "<table align=\"left\" width=100%>\n",
    "    <tr>\n",
    "        <td width=\"6%\">\n",
    "            <img src=\"question_icon.png\">\n",
    "        </td>\n",
    "        <td>\n",
    "            <div align=\"left\">\n",
    "                <font color=\"#21618C\" size=4px>\n",
    "                    <b> 4. Get the descriptive statistics of the sales for each season \n",
    "                    </b>\n",
    "                </font>\n",
    "            </div>\n",
    "        </td>\n",
    "    </tr>\n",
    "</table>"
   ]
  },
  {
   "cell_type": "markdown",
   "metadata": {
    "id": "7YDvg9P2_-JX"
   },
   "source": [
    "**Use the dataframe given below:**\n",
    "   \n",
    "<table>\n",
    "<tr>\n",
    "<th>Month</th>\n",
    "<th>Sales</th>\n",
    "<th>Seasons</th>\n",
    "</tr>\n",
    "<tr>\n",
    "<td>Jan</td>\n",
    "<td>22000</td>\n",
    "<td>Winter</td>\n",
    "</tr>\n",
    "<tr>\n",
    "<td>Feb</td>\n",
    "<td>27000</td>\n",
    "<td>Winter</td>\n",
    "</tr>\n",
    "<tr>\n",
    "<td>Mar</td>\n",
    "<td>25000</td>\n",
    "<td>Spring</td>\n",
    "</tr>\n",
    "<tr>\n",
    "<td>Apr</td>\n",
    "<td>29000</td>\n",
    "<td>Spring</td>\n",
    "</tr>\n",
    "<tr>\n",
    "<td>May</td>\n",
    "<td>35000</td>\n",
    "<td>Spring</td>\n",
    "</tr>\n",
    "<tr>\n",
    "<td>June</td>\n",
    "<td>67000</td>\n",
    "<td>Summer</td>\n",
    "</tr>\n",
    "<tr>\n",
    "<td>July</td>\n",
    "<td>78000</td>\n",
    "<td>Summer</td>\n",
    "</tr>\n",
    "<tr>\n",
    "<td>Aug</td>\n",
    "<td>67000</td>\n",
    "<td>Summer</td>\n",
    "</tr>\n",
    "<tr>\n",
    "<td>Sep</td>\n",
    "<td>56000</td>\n",
    "<td>Fall</td>\n",
    "</tr>\n",
    "<tr>\n",
    "<td>Oct</td>\n",
    "<td>56000</td>\n",
    "<td>Fall</td>\n",
    "</tr>\n",
    "<tr>\n",
    "<td>Nov</td>\n",
    "<td>56000</td>\n",
    "<td>Fall</td>\n",
    "</tr>\n",
    "<tr>\n",
    "<td>Dec</td>\n",
    "<td>60000</td>\n",
    "<td>Winter</td>\n",
    "</tr>\n",
    "\n",
    "</table>"
   ]
  },
  {
   "cell_type": "code",
   "execution_count": 10,
   "metadata": {
    "id": "9Z1224Dv_-JY"
   },
   "outputs": [
    {
     "data": {
      "text/plain": [
       "count         12\n",
       "unique         4\n",
       "top       Winter\n",
       "freq           3\n",
       "Name: Seasons, dtype: object"
      ]
     },
     "execution_count": 10,
     "metadata": {},
     "output_type": "execute_result"
    }
   ],
   "source": [
    "df11=pd.read_csv('q11..csv')\n",
    "# print(df11)\n",
    "# df11.describe(include='Seasons')\n",
    "# desc_data = df11['Seasons'].describe()\n",
    "# print(desc_data)\n",
    "df11.Seasons.describe()"
   ]
  },
  {
   "cell_type": "markdown",
   "metadata": {
    "id": "CuvFNXrE_-JY"
   },
   "source": [
    "<table align=\"left\" width=100%>\n",
    "    <tr>\n",
    "        <td width=\"6%\">\n",
    "            <img src=\"question_icon.png\">\n",
    "        </td>\n",
    "        <td>\n",
    "            <div align=\"left\">\n",
    "                <font color=\"#21618C\" size=4px>\n",
    "                    <b> 5. Create a new column age with values of your choice. And append it to the below dataframe.\n",
    "                    </b>\n",
    "                </font>\n",
    "            </div>\n",
    "        </td>\n",
    "    </tr>\n",
    "</table>"
   ]
  },
  {
   "cell_type": "markdown",
   "metadata": {
    "id": "SdqRwqXF_-JY"
   },
   "source": [
    "**Use the dataframe given below:**\n",
    "   \n",
    "<table>\n",
    "<tr>\n",
    "<th>Name</th>\n",
    "<th>Maths</th>\n",
    "<th>Science</th>\n",
    "<th>English</th>\n",
    "</tr>\n",
    "<tr>\n",
    "<td>Emma</td>\n",
    "<td>56</td>\n",
    "<td>89</td>\n",
    "<td>89</td>\n",
    "</tr>\n",
    "<tr>\n",
    "<td>Mia</td>\n",
    "<td>78</td>\n",
    "<td>87</td>\n",
    "<td>89</td>\n",
    "</tr>\n",
    "<tr>\n",
    "<td>Sophia</td>\n",
    "<td>78</td>\n",
    "<td>78</td>\n",
    "<td>76</td>\n",
    "</tr>\n",
    "<tr>\n",
    "<td>James</td>\n",
    "<td>67</td>\n",
    "<td>89</td>\n",
    "<td>78</td>\n",
    "</tr>\n",
    "<td>John</td>\n",
    "<td>88</td>\n",
    "<td>78</td>\n",
    "<td>87</td>\n",
    "</tr>\n",
    "   \n",
    "</table>"
   ]
  },
  {
   "cell_type": "code",
   "execution_count": 11,
   "metadata": {
    "id": "0UW0EYLP_-JY"
   },
   "outputs": [
    {
     "name": "stdout",
     "output_type": "stream",
     "text": [
      "     Name  Maths  Science  English  Age\n",
      "0    Emma     56       89       89   32\n",
      "1     Mia     78       87       89   45\n",
      "2  Sophia     78       78       76   34\n",
      "3   James     67       89       78   24\n",
      "4    John     88       78       87   43\n"
     ]
    }
   ],
   "source": [
    "df11=pd.read_csv('q5.csv')\n",
    "# print(df11)\n",
    "age={'Age': [32, 45,34,24,43]}\n",
    "df12=pd.DataFrame(age)\n",
    "# print(df12)\n",
    "#df11['Age'] = age  ValueError: Length of values (1) does not match length of index (5)\n",
    "#df11.append(df12)\n",
    "# The frame.append method is deprecated and will be removed from pandas in a future version. Use pandas.concat instead.\n",
    "# pd.concat(df11, df12)                   FutureWarning: In a future version of pandas all arguments of concat except for \n",
    "#                                         the argument 'objs' will be keyword-only.\n",
    "     \n",
    "\n",
    "# df11.insert(4, \"Age\", (21, 23, 24, 21, 32), True)    insert also we can use to add column\n",
    "# df11 = df11.assign(Age=[21, 23, 24, 21, 32])            .assign also we can use but we are not able to gives the column index\n",
    "\n",
    "df13=pd.concat([df11, df12], axis = 1)\n",
    "print(df13)"
   ]
  },
  {
   "cell_type": "markdown",
   "metadata": {
    "id": "HAgVzSkz_-JY"
   },
   "source": [
    "<table align=\"left\" width=100%>\n",
    "    <tr>\n",
    "        <td width=\"6%\">\n",
    "            <img src=\"question_icon.png\">\n",
    "        </td>\n",
    "        <td>\n",
    "            <div align=\"left\">\n",
    "                <font color=\"#21618C\" size=4px>\n",
    "                    <b> 6. Perform right join to combine values based on the columns 'MA(Hons)' and 'Stud_ID' in the two dataframes\n",
    "                    </b>\n",
    "                </font>\n",
    "            </div>\n",
    "        </td>\n",
    "    </tr>\n",
    "</table>"
   ]
  },
  {
   "cell_type": "markdown",
   "metadata": {
    "id": "FZI92idM_-JZ"
   },
   "source": [
    "**Use the dataframe given below:**\n",
    "   \n",
    "<table>\n",
    "    <tr>\n",
    "        <th>Stud_ID</th>\n",
    "        <th>Name</th>\n",
    "        <th>MA(Hons)</th>\n",
    "    </tr>\n",
    "    <tr>\n",
    "        <td>101</td>\n",
    "        <td>Alex</td>\n",
    "        <td>History</td>\n",
    "    </tr>\n",
    "    <tr>\n",
    "        <td>102</td>\n",
    "        <td>Amy</td>\n",
    "        <td>English</td>\n",
    "    </tr>\n",
    "    <tr>\n",
    "        <td>103</td>\n",
    "        <td>Allen</td>\n",
    "        <td>Geography</td>\n",
    "    </tr>\n",
    "    <tr>\n",
    "        <td>104</td>\n",
    "        <td>Alice</td>\n",
    "        <td>German</td>\n",
    "    </tr>\n",
    "        <td>105</td>\n",
    "        <td>James</td>\n",
    "        <td>History</td>\n",
    "    </tr>  \n",
    "</table>\n",
    "<br>\n",
    "\n",
    "\n",
    "\n",
    "<table>\n",
    "    <tr>\n",
    "        <th>Stud_ID</th>\n",
    "        <th>Res_City</th>\n",
    "        <th>MA(Hons)</th>\n",
    "    </tr>\n",
    "    <tr>\n",
    "        <td>101</td>\n",
    "        <td>Delhi</td>\n",
    "        <td>English</td>\n",
    "    </tr>\n",
    "    <tr>\n",
    "        <td>102</td>\n",
    "        <td>Mumbai</td>\n",
    "        <td>History</td>\n",
    "    </tr>\n",
    "    <tr>\n",
    "        <td>103</td>\n",
    "        <td>Delhi</td>\n",
    "        <td>Fine Arts</td>\n",
    "    </tr>\n",
    "    <tr>\n",
    "        <td>104</td>\n",
    "        <td>Chennai</td>\n",
    "        <td>German</td>\n",
    "    </tr>\n",
    "        <td>105</td>\n",
    "        <td>Hyderabad</td>\n",
    "        <td>History</td>\n",
    "    </tr>\n",
    "</table>"
   ]
  },
  {
   "cell_type": "code",
   "execution_count": 13,
   "metadata": {
    "id": "QugGxWxm_-JZ"
   },
   "outputs": [
    {
     "name": "stdout",
     "output_type": "stream",
     "text": [
      "   Stud_ID   Name   MA(Hons)   Res_City      _merge\n",
      "0      101    NaN    English      Delhi  right_only\n",
      "1      102    NaN    History     Mumbai  right_only\n",
      "2      103    NaN  Fine Arts      Delhi  right_only\n",
      "3      104  Alice     German    Chennai        both\n",
      "4      105  James    History  Hyderabad        both\n"
     ]
    }
   ],
   "source": [
    "df16=pd.read_csv('q6a.csv')\n",
    "df17=pd.read_csv('q6b.csv')\n",
    "dfm6 = pd.merge(left = df16, right = df17 , how = 'right' ,on=['MA(Hons)','Stud_ID'], indicator=True)\n",
    "print(dfm6)\n"
   ]
  },
  {
   "cell_type": "markdown",
   "metadata": {
    "id": "gJrAEzXR_-JZ"
   },
   "source": [
    "<table align=\"left\" width=100%>\n",
    "    <tr>\n",
    "        <td width=\"6%\">\n",
    "            <img src=\"question_icon.png\">\n",
    "        </td>\n",
    "        <td>\n",
    "            <div align=\"left\">\n",
    "                <font color=\"#21618C\" size=4px>\n",
    "                    <b> 7. Using the dataframes created in question 6, perform inner join to combine values based on the columns 'MA(Hons)' and 'Stud_ID' in the two dataframes\n",
    "                    </b>\n",
    "                </font>\n",
    "            </div>\n",
    "        </td>\n",
    "    </tr>\n",
    "</table>"
   ]
  },
  {
   "cell_type": "code",
   "execution_count": 14,
   "metadata": {
    "id": "2ruMknlA_-JZ"
   },
   "outputs": [
    {
     "name": "stdout",
     "output_type": "stream",
     "text": [
      "   Stud_ID   Name MA(Hons)   Res_City _merge\n",
      "0      104  Alice   German    Chennai   both\n",
      "1      105  James  History  Hyderabad   both\n"
     ]
    }
   ],
   "source": [
    "df18=pd.read_csv('q6a.csv')\n",
    "df19=pd.read_csv('q6b.csv')\n",
    "dfm7 = pd.merge(left = df16, right = df17 , how = 'inner' ,on=['MA(Hons)','Stud_ID'], indicator=True)\n",
    "print(dfm7)"
   ]
  },
  {
   "cell_type": "markdown",
   "metadata": {
    "id": "fQzkOPyt_-JZ"
   },
   "source": [
    "<table align=\"left\" width=100%>\n",
    "    <tr>\n",
    "        <td width=\"6%\">\n",
    "            <img src=\"question_icon.png\">\n",
    "        </td>\n",
    "        <td>\n",
    "            <div align=\"left\">\n",
    "                <font color=\"#21618C\" size=4px>\n",
    "                    <b> 8. Concatenate two dataframes along the columns\n",
    "                    </b>\n",
    "                </font>\n",
    "            </div>\n",
    "        </td>\n",
    "    </tr>\n",
    "</table>"
   ]
  },
  {
   "cell_type": "markdown",
   "metadata": {
    "id": "VE1mB31a_-Ja"
   },
   "source": [
    "**Use the dataframe given below:**\n",
    "   \n",
    "<table>\n",
    "    <tr>\n",
    "        <th>Stud_ID</th>\n",
    "        <th>Name</th>\n",
    "    </tr>\n",
    "    <tr>\n",
    "        <td>101</td>\n",
    "        <td>Alex</td>\n",
    "    </tr>\n",
    "    <tr>\n",
    "        <td>102</td>\n",
    "        <td>Amy</td>\n",
    "    </tr>\n",
    "    <tr>\n",
    "        <td>103</td>\n",
    "        <td>Allen</td>\n",
    "    <tr>\n",
    "        <td>104</td>\n",
    "        <td>Alice</td>\n",
    "    </tr>\n",
    "        <td>105</td>\n",
    "        <td>James</td>\n",
    "    </tr>  \n",
    "</table>\n",
    "<br>\n",
    "\n",
    "\n",
    "\n",
    "<table>\n",
    "    <tr>\n",
    "        <th>Res_City</th>\n",
    "        <th>MA(Hons)</th>\n",
    "    </tr>\n",
    "    <tr>\n",
    "        <td>Delhi</td>\n",
    "        <td>English</td>\n",
    "    </tr>\n",
    "    <tr>\n",
    "        <td>Mumbai</td>\n",
    "        <td>History</td>\n",
    "    </tr>\n",
    "    <tr>\n",
    "        <td>Delhi</td>\n",
    "        <td>Fine Arts</td>\n",
    "    </tr>\n",
    "    <tr>\n",
    "        <td>Chennai</td>\n",
    "        <td>German</td>\n",
    "    </tr>\n",
    "        <td>Hyderabad</td>\n",
    "        <td>History</td>\n",
    "    </tr>\n",
    "</table>"
   ]
  },
  {
   "cell_type": "code",
   "execution_count": 15,
   "metadata": {
    "id": "-e4gMvXy_-Ja"
   },
   "outputs": [
    {
     "name": "stdout",
     "output_type": "stream",
     "text": [
      "   Stud_ID   Name   Res_City   MA(Hons)\n",
      "0      101   Alex      Delhi    English\n",
      "1      102    Amy     Mumbai    History\n",
      "2      103  Allen      Delhi  Fine Arts\n",
      "3      104  Alice    Chennai     German\n",
      "4      105  James  Hyderabad    History\n"
     ]
    }
   ],
   "source": [
    "df20=pd.read_csv('q8.csv')\n",
    "df21=pd.read_csv('q8b.csv')\n",
    "df20=pd.concat([df20, df21], axis = 1)\n",
    "print(df20)"
   ]
  },
  {
   "cell_type": "markdown",
   "metadata": {
    "id": "4M4yOC9Q_-Ja"
   },
   "source": [
    "<table align=\"left\" width=100%>\n",
    "    <tr>\n",
    "        <td width=\"6%\">\n",
    "            <img src=\"question_icon.png\">\n",
    "        </td>\n",
    "        <td>\n",
    "            <div align=\"left\">\n",
    "                <font color=\"#21618C\" size=4px>\n",
    "                    <b> 9. Calculate minimum, maximum and average sales for each season\n",
    "                    </b>\n",
    "                </font>\n",
    "            </div>\n",
    "        </td>\n",
    "    </tr>\n",
    "</table>"
   ]
  },
  {
   "cell_type": "markdown",
   "metadata": {
    "id": "9RBuJECZ_-Ja"
   },
   "source": [
    "**Use the dataframe given below:**\n",
    "   \n",
    "<table>\n",
    "<tr>\n",
    "<th>ID</th>\n",
    "<th>Name</th>\n",
    "<th>Subject</th>\n",
    "</tr>\n",
    "<tr>\n",
    "<td>101</td>\n",
    "<td>Alex</td>\n",
    "<td>Maths</td>\n",
    "</tr>\n",
    "<tr>\n",
    "<td>102</td>\n",
    "<td>Amy</td>\n",
    "<td>English</td>\n",
    "</tr>\n",
    "<tr>\n",
    "<td>103</td>\n",
    "<td>Allen</td>\n",
    "<td>Science</td>\n",
    "</tr>\n",
    "<tr>\n",
    "<td>104</td>\n",
    "<td>Alice</td>\n",
    "<td>German</td>\n",
    "</tr>\n",
    "<td>105</td>\n",
    "<td>Ayoung</td>\n",
    "<td>History</td>\n",
    "</tr>\n",
    "   \n",
    "</table><br>\n",
    "\n",
    "\n",
    "\n",
    "<table>\n",
    "<tr>\n",
    "<th>ID</th>\n",
    "<th>Name</th>\n",
    "<th>Subject</th>\n",
    "</tr>\n",
    "<tr>\n",
    "<td>101</td>\n",
    "<td>Billy</td>\n",
    "<td>English</td>\n",
    "</tr>\n",
    "<tr>\n",
    "<td>102</td>\n",
    "<td>Brian</td>\n",
    "<td>Science</td>\n",
    "</tr>\n",
    "<tr>\n",
    "<td>103</td>\n",
    "<td>Bran</td>\n",
    "<td>Social Science</td>\n",
    "</tr>\n",
    "<tr>\n",
    "<td>104</td>\n",
    "<td>Bryce</td>\n",
    "<td>German</td>\n",
    "</tr>\n",
    "<td>105</td>\n",
    "<td>Betty</td>\n",
    "<td>History</td>\n",
    "</tr>\n",
    "   \n",
    "</table>"
   ]
  },
  {
   "cell_type": "code",
   "execution_count": 16,
   "metadata": {
    "id": "jfdT862C_-Ja"
   },
   "outputs": [
    {
     "name": "stdout",
     "output_type": "stream",
     "text": [
      "Seasons\n",
      "Fall      56000\n",
      "Spring    25000\n",
      "Summer    67000\n",
      "Winter    22000\n",
      "Name: Sales, dtype: int64\n",
      "Seasons\n",
      "Fall      56000\n",
      "Spring    35000\n",
      "Summer    78000\n",
      "Winter    60000\n",
      "Name: Sales, dtype: int64\n",
      "Seasons\n",
      "Fall      56000.000000\n",
      "Spring    29666.666667\n",
      "Summer    70666.666667\n",
      "Winter    36333.333333\n",
      "Name: Sales, dtype: float64\n"
     ]
    }
   ],
   "source": [
    "df11=pd.read_csv('q11..csv')\n",
    "# print(df11)\n",
    "print(df11.groupby(by='Seasons')['Sales'].min())\n",
    "print(df11.groupby(by='Seasons')['Sales'].max())\n",
    "print(df11.groupby(by='Seasons')['Sales'].mean())"
   ]
  },
  {
   "cell_type": "markdown",
   "metadata": {
    "id": "uXPVR5sz_-Ja"
   },
   "source": [
    "<table align=\"left\" width=100%>\n",
    "    <tr>\n",
    "        <td width=\"6%\">\n",
    "            <img src=\"question_icon.png\">\n",
    "        </td>\n",
    "        <td>\n",
    "            <div align=\"left\">\n",
    "                <font color=\"#21618C\" size=4px>\n",
    "                    <b> 10. Find all the duplicate entries based on the columns X and Y.\n",
    "                    </b>\n",
    "                </font>\n",
    "            </div>\n",
    "        </td>\n",
    "    </tr>\n",
    "</table>"
   ]
  },
  {
   "cell_type": "markdown",
   "metadata": {
    "id": "FJD1853j_-Jb"
   },
   "source": [
    "**Use the dataframe given below:**\n",
    "   \n",
    "<table>\n",
    "<tr>\n",
    "<th>X</th>\n",
    "<th>Y</th>\n",
    "<th>Z</th>\n",
    "</tr>\n",
    "<tr>\n",
    "<td>1</td>\n",
    "<td>2</td>\n",
    "<td>5</td>\n",
    "</tr>\n",
    "<tr>\n",
    "<td>2</td>\n",
    "<td>2</td>\n",
    "<td>6</td>\n",
    "</tr>\n",
    "<tr>\n",
    "<td>3</td>\n",
    "<td>1</td>\n",
    "<td>2</td>\n",
    "</tr>\n",
    "<tr>\n",
    "<td>1</td>\n",
    "<td>2</td>\n",
    "<td>6</td>\n",
    "</tr>\n",
    "<tr>\n",
    "<td>2</td>\n",
    "<td>2</td>\n",
    "<td>1</td>\n",
    "</tr>\n",
    "<tr>\n",
    "<td>3</td>\n",
    "<td>4</td>\n",
    "<td>6</td>\n",
    "</tr>\n",
    "<tr>\n",
    "<td>2</td>\n",
    "<td>2</td>\n",
    "<td>2</td>\n",
    "</tr>\n",
    "<tr>\n",
    "<td>2</td>\n",
    "<td>2</td>\n",
    "<td>8</td>\n",
    "</tr>\n",
    "\n",
    "</table>"
   ]
  },
  {
   "cell_type": "markdown",
   "metadata": {
    "id": "8URg-rhl_-Jb"
   },
   "source": [
    "**Use the dataframe given below:**\n",
    "   \n",
    "<table>\n",
    "<tr>\n",
    "<th>Month</th>\n",
    "<th>Sales</th>\n",
    "<th>Seasons</th>\n",
    "</tr>\n",
    "<tr>\n",
    "<td>Jan</td>\n",
    "<td>22000</td>\n",
    "<td>Winter</td>\n",
    "</tr>\n",
    "<tr>\n",
    "<td>Feb</td>\n",
    "<td>27000</td>\n",
    "<td>Winter</td>\n",
    "</tr>\n",
    "<tr>\n",
    "<td>Mar</td>\n",
    "<td>25000</td>\n",
    "<td>Spring</td>\n",
    "</tr>\n",
    "<tr>\n",
    "<td>Apr</td>\n",
    "<td>29000</td>\n",
    "<td>Spring</td>\n",
    "</tr>\n",
    "<tr>\n",
    "<td>May</td>\n",
    "<td>35000</td>\n",
    "<td>Spring</td>\n",
    "</tr>\n",
    "<tr>\n",
    "<td>June</td>\n",
    "<td>67000</td>\n",
    "<td>Summer</td>\n",
    "</tr>\n",
    "<tr>\n",
    "<td>July</td>\n",
    "<td>78000</td>\n",
    "<td>Summer</td>\n",
    "</tr>\n",
    "<tr>\n",
    "<td>Aug</td>\n",
    "<td>67000</td>\n",
    "<td>Summer</td>\n",
    "</tr>\n",
    "<tr>\n",
    "<td>Sep</td>\n",
    "<td>56000</td>\n",
    "<td>Fall</td>\n",
    "</tr>\n",
    "<tr>\n",
    "<td>Oct</td>\n",
    "<td>56000</td>\n",
    "<td>Fall</td>\n",
    "</tr>\n",
    "<tr>\n",
    "<td>Nov</td>\n",
    "<td>56000</td>\n",
    "<td>Fall</td>\n",
    "</tr>\n",
    "<tr>\n",
    "<td>Dec</td>\n",
    "<td>60000</td>\n",
    "<td>Winter</td>\n",
    "</tr>\n",
    "\n",
    "</table>"
   ]
  },
  {
   "cell_type": "code",
   "execution_count": 17,
   "metadata": {
    "id": "jmQYIYhr_-Jb"
   },
   "outputs": [
    {
     "data": {
      "text/plain": [
       "0    False\n",
       "1    False\n",
       "2    False\n",
       "3     True\n",
       "4     True\n",
       "5    False\n",
       "6     True\n",
       "7     True\n",
       "dtype: bool"
      ]
     },
     "execution_count": 17,
     "metadata": {},
     "output_type": "execute_result"
    }
   ],
   "source": [
    "df10=pd.read_csv('q10.csv')\n",
    "df10.duplicated(subset=['X','Y'],keep='first')"
   ]
  }
 ],
 "metadata": {
  "colab": {
   "collapsed_sections": [],
   "name": "NPV-Day 3_TH Exercise.ipynb",
   "provenance": []
  },
  "kernelspec": {
   "display_name": "Python 3 (ipykernel)",
   "language": "python",
   "name": "python3"
  },
  "language_info": {
   "codemirror_mode": {
    "name": "ipython",
    "version": 3
   },
   "file_extension": ".py",
   "mimetype": "text/x-python",
   "name": "python",
   "nbconvert_exporter": "python",
   "pygments_lexer": "ipython3",
   "version": "3.9.13"
  }
 },
 "nbformat": 4,
 "nbformat_minor": 1
}
